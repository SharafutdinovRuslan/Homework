{
 "cells": [
  {
   "cell_type": "code",
   "execution_count": null,
   "metadata": {
    "_cell_guid": "b1076dfc-b9ad-4769-8c92-a6c4dae69d19",
    "_uuid": "8f2839f25d086af736a60e9eeb907d3b93b6e0e5"
   },
   "outputs": [],
   "source": [
    "# This Python 3 environment comes with many helpful analytics libraries installed\n",
    "# It is defined by the kaggle/python docker image: https://github.com/kaggle/docker-python\n",
    "# For example, here's several helpful packages to load in \n",
    "\n",
    "import numpy as np # linear algebra\n",
    "import pandas as pd # data processing, CSV file I/O (e.g. pd.read_csv)\n",
    "import matplotlib.pyplot as plt\n",
    "import seaborn as sns\n",
    "from sklearn.linear_model import LogisticRegression\n",
    "\n",
    "# Input data files are available in the \"../input/\" directory.\n",
    "# For example, running this (by clicking run or pressing Shift+Enter) will list the files in the input directory\n",
    "\n",
    "# Any results you write to the current directory are saved as output.\n",
    "\n",
    "%matplotlib inline"
   ]
  },
  {
   "cell_type": "code",
   "execution_count": null,
   "metadata": {
    "_cell_guid": "79c7e3d0-c299-4dcb-8224-4455121ee9b0",
    "_uuid": "d629ff2d2480ee46fbb7e2d37f6b5fab8052498a",
    "scrolled": true
   },
   "outputs": [],
   "source": [
    "train = pd.read_csv(\"train.csv\")\n",
    "test = pd.read_csv(\"test.csv\")\n",
    "print ('Datasets:' , 'train:' , train.shape , 'test:' , test.shape)"
   ]
  },
  {
   "cell_type": "code",
   "execution_count": null,
   "metadata": {
    "_uuid": "785a2c803c75993123555d51d343006c93959ab2"
   },
   "outputs": [],
   "source": [
    "train.head()"
   ]
  },
  {
   "cell_type": "code",
   "execution_count": null,
   "metadata": {
    "_uuid": "6b6350dc6052e5518e852424ba421921efa48f8c"
   },
   "outputs": [],
   "source": [
    "train.describe()"
   ]
  },
  {
   "cell_type": "code",
   "execution_count": null,
   "metadata": {
    "_uuid": "147611de89e894ab33ab3c0a46c4d56f08d1af97"
   },
   "outputs": [],
   "source": [
    "print('TRAIN\\n', train.isna().sum())\n",
    "print('TEST\\n', test.isna().sum())"
   ]
  },
  {
   "cell_type": "code",
   "execution_count": null,
   "metadata": {
    "_uuid": "76aff58e319bbd8bb3a773c3d804c2b7262189da",
    "scrolled": false
   },
   "outputs": [],
   "source": [
    "# Смотрим попарную корреляцию\n",
    "sns.heatmap(train[['Survived', 'Pclass', 'Age', 'SibSp', 'Parch', 'Fare']].corr(), annot=True, fmt = \".2f\", cmap = \"coolwarm\")\n",
    "# Зависимость выживания от категориальных признаков\n",
    "sns.catplot(x='Pclass', y='Survived',  kind='bar', data=train)\n",
    "sns.catplot(x='Sex', y='Survived',  kind='bar', data=train)\n",
    "sns.catplot(x='Sex', y='Survived',  kind='bar', data=train, hue='Pclass')\n",
    "sns.catplot(x='SibSp', y='Survived', data=train, kind='bar')\n"
   ]
  },
  {
   "cell_type": "code",
   "execution_count": null,
   "metadata": {
    "_uuid": "67f9b59756bf5a492a892e94cec9ee87bef1836d"
   },
   "outputs": [],
   "source": [
    "# Обрабатываем null\n",
    "\n",
    "# Fare (в train нет nullов)\n",
    "train.dropna(subset = ['Fare'], inplace = True)\n",
    "test.Fare.fillna(test.Age.median(), inplace=True)\n",
    "\n",
    "# Age\n",
    "train.Age.fillna(train.Age.median(), inplace=True)\n",
    "test.Age.fillna(test.Age.median(), inplace=True)\n",
    "test.shape"
   ]
  },
  {
   "cell_type": "code",
   "execution_count": null,
   "metadata": {
    "_uuid": "95b929e3f5ba499e4a7ef2e90072ac617801198a"
   },
   "outputs": [],
   "source": [
    "# Убираем ненужные признаки\n",
    "train = train.drop(['PassengerId','Name','Ticket'], axis=1)\n",
    "test = test.drop(['Name','Ticket'], axis=1)"
   ]
  },
  {
   "cell_type": "code",
   "execution_count": null,
   "metadata": {
    "_uuid": "a65ccefe882fed23a6a0272642ced0d4e1a52d61"
   },
   "outputs": [],
   "source": [
    "# Обрабатываем категориальные признаки\n",
    "[train, test] = [pd.get_dummies(data = df, columns = ['Pclass', 'Sex', 'Embarked']) for df in [train, test]]"
   ]
  },
  {
   "cell_type": "code",
   "execution_count": null,
   "metadata": {
    "_uuid": "d94e30a94e6ecc04e30c46ed014f306c7176b9be"
   },
   "outputs": [],
   "source": [
    "# Преобразуем признаки и добавим новые: \n",
    "# Cabin - HasCabin (1 или 0)\n",
    "# FamilySize - размер семьи\n",
    "# IsAlone - (1 или 0)\n",
    "\n",
    "for df in [train, test]:\n",
    "    df['HasCabin'] = df['Cabin'].notna().astype(int)\n",
    "    df['FamilySize'] = df['SibSp'] + df['Parch'] + 1\n",
    "    df['IsAlone'] = (df['FamilySize'] > 1).astype(int)\n",
    "\n",
    "[df.drop(columns=['Cabin', 'SibSp', 'Parch'], inplace = True) for df in [train, test]]"
   ]
  },
  {
   "cell_type": "code",
   "execution_count": null,
   "metadata": {
    "_uuid": "b4f02afc40e9fa46ece9380b6439c2ae205d148e"
   },
   "outputs": [],
   "source": [
    "# Смотрим преобразованные датасеты\n",
    "print(train.columns.values)\n",
    "print(test.columns.values)"
   ]
  },
  {
   "cell_type": "code",
   "execution_count": null,
   "metadata": {
    "_uuid": "5220d51cc1c02ac0ad3b849383590bf5521da164"
   },
   "outputs": [],
   "source": [
    "# Делим train на train и test\n",
    "from sklearn.model_selection import train_test_split\n",
    "\n",
    "X = train[['Age','Fare','Pclass_1', 'Pclass_2','Pclass_3', 'Sex_female',\n",
    " 'Sex_male', 'Embarked_C', 'Embarked_Q', 'Embarked_S', 'HasCabin', 'FamilySize',\n",
    " 'IsAlone']]\n",
    "y = train['Survived']\n",
    "X_train, X_test, y_train, y_test = train_test_split(X, y, test_size = 0.2, stratify=train.Survived)\n",
    "print(X_train.shape, X_test.shape)\n"
   ]
  },
  {
   "cell_type": "code",
   "execution_count": null,
   "metadata": {
    "_uuid": "ea1a9fa1e2e480ddb51e5099950f6e15bafcb362"
   },
   "outputs": [],
   "source": [
    "# К соседей\n",
    "from sklearn.neighbors import KNeighborsClassifier\n",
    "from sklearn.metrics import confusion_matrix, accuracy_score\n",
    "\n",
    "classifier = KNeighborsClassifier(n_neighbors = 3)\n",
    "classifier.fit(X_train, y_train)\n",
    "y_pred = classifier.predict(X_test)\n",
    "print(confusion_matrix(y_test, y_pred))\n",
    "print(accuracy_score(y_test, y_pred))"
   ]
  },
  {
   "cell_type": "code",
   "execution_count": null,
   "metadata": {
    "_uuid": "69339d4c0e7fc4ca8d74cff36243a20ce8eada98"
   },
   "outputs": [],
   "source": [
    "# Обучаемся на всей выборке\n",
    "classifier.fit(X, y)\n",
    "# Проверяем на тесте\n",
    "X_testing = test[['Age','Fare','Pclass_1', 'Pclass_2','Pclass_3', 'Sex_female',\n",
    " 'Sex_male', 'Embarked_C', 'Embarked_Q', 'Embarked_S', 'HasCabin', 'FamilySize',\n",
    " 'IsAlone']]\n",
    "y_test = classifier.predict(X_testing)"
   ]
  },
  {
   "cell_type": "code",
   "execution_count": null,
   "metadata": {
    "_uuid": "da4972962429241b0c4ce63e14d4a1d284875753"
   },
   "outputs": [],
   "source": [
    "# Создаем файл с ответами\n",
    "validation_pId = test.loc[:, 'PassengerId']\n",
    "my_submission = pd.DataFrame(data={'PassengerId':validation_pId, 'Survived':y_test})\n",
    "my_submission.to_csv('submission_1.csv', index=False, encoding='utf8')\n",
    "print(my_submission['Survived'].value_counts())"
   ]
  },
  {
   "cell_type": "code",
   "execution_count": null,
   "metadata": {
    "_uuid": "58d68d7a46e8b486aae1328c3c2a344994f1ac69"
   },
   "outputs": [],
   "source": []
  }
 ],
 "metadata": {
  "kernelspec": {
   "display_name": "Python 3",
   "language": "python",
   "name": "python3"
  },
  "language_info": {
   "codemirror_mode": {
    "name": "ipython",
    "version": 3
   },
   "file_extension": ".py",
   "mimetype": "text/x-python",
   "name": "python",
   "nbconvert_exporter": "python",
   "pygments_lexer": "ipython3",
   "version": "3.6.5"
  }
 },
 "nbformat": 4,
 "nbformat_minor": 1
}
